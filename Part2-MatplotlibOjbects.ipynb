{
 "cells": [
  {
   "cell_type": "code",
   "execution_count": 23,
   "metadata": {},
   "outputs": [],
   "source": [
    "import matplotlib.pyplot as plt\n",
    "import matplotlib as mpl\n",
    "import numpy as np"
   ]
  },
  {
   "cell_type": "markdown",
   "metadata": {},
   "source": [
    "# Part 2: Matplotlib objects\n",
    "\n",
    "\n",
    "Python is an object-oriented language, so all of the components of your plots are python objects. A better understanding of these objects will allow you to have much greater control of your visualizations.\n",
    "\n",
    "![Anatomy of a figure](./images/anatomyOfFigure.png)"
   ]
  },
  {
   "cell_type": "markdown",
   "metadata": {},
   "source": [
    "## Figures, Axes, and Subplots"
   ]
  },
  {
   "cell_type": "code",
   "execution_count": 20,
   "metadata": {},
   "outputs": [
    {
     "data": {
      "text/plain": [
       "matplotlib.figure.Figure"
      ]
     },
     "execution_count": 20,
     "metadata": {},
     "output_type": "execute_result"
    },
    {
     "data": {
      "text/plain": [
       "<Figure size 432x288 with 0 Axes>"
      ]
     },
     "metadata": {},
     "output_type": "display_data"
    }
   ],
   "source": [
    "f0 = plt.figure()\n",
    "type(f)"
   ]
  },
  {
   "cell_type": "markdown",
   "metadata": {},
   "source": [
    "You can set the figure size in inches: very useful for making plots that match journal specifications!"
   ]
  },
  {
   "cell_type": "code",
   "execution_count": 19,
   "metadata": {},
   "outputs": [
    {
     "data": {
      "text/plain": [
       "<Figure size 144x144 with 0 Axes>"
      ]
     },
     "metadata": {},
     "output_type": "display_data"
    }
   ],
   "source": [
    "f1 = plt.figure(figsize=(2, 2))"
   ]
  },
  {
   "cell_type": "markdown",
   "metadata": {},
   "source": [
    "We cannot plot directly on a figure. First we need to create some axes."
   ]
  },
  {
   "cell_type": "code",
   "execution_count": 24,
   "metadata": {},
   "outputs": [
    {
     "ename": "AttributeError",
     "evalue": "'Figure' object has no attribute 'plot'",
     "output_type": "error",
     "traceback": [
      "\u001b[1;31m---------------------------------------------------------------------------\u001b[0m",
      "\u001b[1;31mAttributeError\u001b[0m                            Traceback (most recent call last)",
      "\u001b[1;32m<ipython-input-24-31d2d3f49ad0>\u001b[0m in \u001b[0;36m<module>\u001b[1;34m\u001b[0m\n\u001b[0;32m      1\u001b[0m \u001b[0mx\u001b[0m \u001b[1;33m=\u001b[0m \u001b[0mnp\u001b[0m\u001b[1;33m.\u001b[0m\u001b[0marange\u001b[0m\u001b[1;33m(\u001b[0m\u001b[1;36m0\u001b[0m\u001b[1;33m,\u001b[0m\u001b[1;36m1\u001b[0m\u001b[1;33m,\u001b[0m\u001b[1;36m.1\u001b[0m\u001b[1;33m)\u001b[0m\u001b[1;33m\u001b[0m\u001b[1;33m\u001b[0m\u001b[0m\n\u001b[0;32m      2\u001b[0m \u001b[1;31m# The following will produce an error.\u001b[0m\u001b[1;33m\u001b[0m\u001b[1;33m\u001b[0m\u001b[1;33m\u001b[0m\u001b[0m\n\u001b[1;32m----> 3\u001b[1;33m \u001b[0mplt\u001b[0m\u001b[1;33m.\u001b[0m\u001b[0mfigure\u001b[0m\u001b[1;33m(\u001b[0m\u001b[1;33m)\u001b[0m\u001b[1;33m.\u001b[0m\u001b[0mplot\u001b[0m\u001b[1;33m(\u001b[0m\u001b[0mx\u001b[0m\u001b[1;33m,\u001b[0m \u001b[0mx\u001b[0m\u001b[1;33m**\u001b[0m\u001b[1;36m2\u001b[0m\u001b[1;33m)\u001b[0m\u001b[1;33m\u001b[0m\u001b[1;33m\u001b[0m\u001b[0m\n\u001b[0m",
      "\u001b[1;31mAttributeError\u001b[0m: 'Figure' object has no attribute 'plot'"
     ]
    },
    {
     "data": {
      "text/plain": [
       "<Figure size 432x288 with 0 Axes>"
      ]
     },
     "metadata": {},
     "output_type": "display_data"
    }
   ],
   "source": [
    "x = np.arange(0,1,.1)\n",
    "# The following will produce an error.\n",
    "plt.figure().plot(x, x**2)"
   ]
  },
  {
   "cell_type": "markdown",
   "metadata": {},
   "source": [
    "The easiest way to create a figure with one set of axes is by using the `subplot` function:"
   ]
  },
  {
   "cell_type": "code",
   "execution_count": 66,
   "metadata": {},
   "outputs": [
    {
     "data": {
      "text/plain": [
       "[<matplotlib.lines.Line2D at 0x137b7905a08>]"
      ]
     },
     "execution_count": 66,
     "metadata": {},
     "output_type": "execute_result"
    },
    {
     "data": {
      "image/png": "[encoded data removed]",
      "text/plain": [
       "<Figure size 432x288 with 1 Axes>"
      ]
     },
     "metadata": {
      "needs_background": "light"
     },
     "output_type": "display_data"
    }
   ],
   "source": [
    "ax0 = plt.subplot()\n",
    "ax0.plot(x, x**2, '.-')"
   ]
  },
  {
   "cell_type": "code",
   "execution_count": 67,
   "metadata": {},
   "outputs": [
    {
     "data": {
      "text/plain": [
       "matplotlib.axes._subplots.AxesSubplot"
      ]
     },
     "execution_count": 67,
     "metadata": {},
     "output_type": "execute_result"
    }
   ],
   "source": [
    "type(ax0)"
   ]
  },
  {
   "cell_type": "markdown",
   "metadata": {},
   "source": [
    "Notice that `ax1` is an `AxesSubplot` type. This object has methods, like `plot`, which allow you to control those axes. Treating axes as separate objects from a figure allows us to have control over subplots."
   ]
  },
  {
   "cell_type": "code",
   "execution_count": 40,
   "metadata": {},
   "outputs": [
    {
     "data": {
      "text/plain": [
       "Text(0.5, 0.5, 'ax2 = subplot(2,1,2)')"
      ]
     },
     "execution_count": 40,
     "metadata": {},
     "output_type": "execute_result"
    },
    {
     "data": {
      "image/png": "[encoded data removed]",
      "text/plain": [
       "<Figure size 432x288 with 2 Axes>"
      ]
     },
     "metadata": {},
     "output_type": "display_data"
    }
   ],
   "source": [
    "# This cell's code is modified from: https://github.com/rougier/matplotlib-tutorial/blob/master/scripts/subplot-horizontal.py \n",
    "# Accessed 10/12/20\n",
    "\n",
    "# Create subplots\n",
    "ax1 = plt.subplot(2,1,1)\n",
    "ax2 = plt.subplot(2,1,2)\n",
    "\n",
    "# Style the axes individually\n",
    "ax1.set_xticks([])\n",
    "ax1.set_yticks([])\n",
    "ax1.text(0.5,0.5, 'ax1 = subplot(2,1,1)',ha='center',va='center',size=24,alpha=.5)\n",
    "\n",
    "ax2.set_xticks([])\n",
    "ax2.set_yticks([])\n",
    "ax2.text(0.5,0.5, 'ax2 = subplot(2,1,2)',ha='center',va='center',size=24,alpha=.5)"
   ]
  },
  {
   "cell_type": "markdown",
   "metadata": {},
   "source": [
    "<div class=\"alert alert-block alert-info\">\n",
    "    <b>Exercise 1</b> <p>Try it out: Make a plot using matplotlib subplot objects! Need some ideas?</p>\n",
    "    <ol>\n",
    "        <li> Plot $y$ vs $sin(x)$ in subplot 1 and $y$ vs $cos(x)$ in subplot 2.\n",
    "        <li> Refactor the code for one of your previous visualization(s) to use subplot or axes objects. How were you able to improve the visualization?\n",
    "    </ol>\n",
    "</div>"
   ]
  },
  {
   "cell_type": "markdown",
   "metadata": {},
   "source": [
    "1. Start with this code or choose your own example."
   ]
  },
  {
   "cell_type": "code",
   "execution_count": 90,
   "metadata": {},
   "outputs": [],
   "source": [
    "x = np.arange(0, 2*np.pi, .1)\n",
    "\n",
    "# your code here!"
   ]
  },
  {
   "cell_type": "markdown",
   "metadata": {},
   "source": [
    "2. Start with this code or choose your own example"
   ]
  },
  {
   "cell_type": "code",
   "execution_count": 87,
   "metadata": {},
   "outputs": [],
   "source": [
    "import pandas as pd\n",
    "df = pd.read_csv(\"https://raw.githubusercontent.com/rfordatascience/tidytuesday/master/data/2019/2019-10-22/horror_movies.csv\")\n",
    "df['year_released'] = pd.to_datetime(df['release_date']).map(lambda d: d.year)\n",
    "df['has_witches'] = df['plot'].str.contains('witch')"
   ]
  },
  {
   "cell_type": "code",
   "execution_count": null,
   "metadata": {},
   "outputs": [],
   "source": [
    "# Refactor this code...\n",
    "years = np.arange(df['year_released'].min(), df['year_released'].max())\n",
    "total_count = [df[df['year_released']==y].shape[0] for y in years]\n",
    "plt.plot(years, total_count, 'o--', c='xkcd:orange', label=\"total\")\n",
    "plt.xlabel(\"Year\")\n",
    "plt.ylabel(\"Number of movies\")"
   ]
  },
  {
   "cell_type": "markdown",
   "metadata": {},
   "source": [
    "## Getting & Setting axes properties"
   ]
  },
  {
   "cell_type": "markdown",
   "metadata": {},
   "source": [
    "You may be asking, why do I need to use `set_xlabel`, `set_xticks`, etc. instead of just `ticks` or `xlabel`? This allows us to use the concept of a \"getter\" and a \"setter\": the `get_xticks` function will get the values of ticks for you, while the `set_xticks` will set them."
   ]
  },
  {
   "cell_type": "code",
   "execution_count": 68,
   "metadata": {},
   "outputs": [
    {
     "data": {
      "text/plain": [
       "array([-0.2,  0. ,  0.2,  0.4,  0.6,  0.8,  1. ])"
      ]
     },
     "execution_count": 68,
     "metadata": {},
     "output_type": "execute_result"
    }
   ],
   "source": [
    "ax0.get_xticks()"
   ]
  },
  {
   "cell_type": "markdown",
   "metadata": {},
   "source": [
    "The `subplot` function always creates equally-sized subplots on a grid. What if we want different-sized subplots, for example to create insets on our plot? For this, we use the `axes` functions to get a generic axes objects. Use a list or tuple of numbers, `[left position, bottom position, width, height]`, with units in percentages of the figure."
   ]
  },
  {
   "cell_type": "code",
   "execution_count": 78,
   "metadata": {},
   "outputs": [
    {
     "name": "stdout",
     "output_type": "stream",
     "text": [
      "Help on method set_xticklabels in module matplotlib.axes._base:\n",
      "\n",
      "set_xticklabels(labels, fontdict=None, minor=False, **kwargs) method of matplotlib.axes._subplots.AxesSubplot instance\n",
      "    Set the x-tick labels with list of string labels.\n",
      "    \n",
      "    Parameters\n",
      "    ----------\n",
      "    labels : List[str]\n",
      "        List of string labels.\n",
      "    \n",
      "    fontdict : dict, optional\n",
      "        A dictionary controlling the appearance of the ticklabels.\n",
      "        The default `fontdict` is::\n",
      "    \n",
      "           {'fontsize': rcParams['axes.titlesize'],\n",
      "            'fontweight': rcParams['axes.titleweight'],\n",
      "            'verticalalignment': 'baseline',\n",
      "            'horizontalalignment': loc}\n",
      "    \n",
      "    minor : bool, optional\n",
      "        Whether to set the minor ticklabels rather than the major ones.\n",
      "    \n",
      "    Returns\n",
      "    -------\n",
      "    A list of `~.text.Text` instances.\n",
      "    \n",
      "    Other Parameters\n",
      "    -----------------\n",
      "    **kwargs : `~.text.Text` properties.\n",
      "\n"
     ]
    }
   ],
   "source": [
    "help(ax0.set_xticklabels)\n"
   ]
  },
  {
   "cell_type": "code",
   "execution_count": 85,
   "metadata": {},
   "outputs": [
    {
     "data": {
      "text/plain": [
       "Text(0, 0.5, '$x^2$')"
      ]
     },
     "execution_count": 85,
     "metadata": {},
     "output_type": "execute_result"
    },
    {
     "data": {
      "image/png": "[encoded data removed]",
      "text/plain": [
       "<Figure size 432x288 with 2 Axes>"
      ]
     },
     "metadata": {
      "needs_background": "light"
     },
     "output_type": "display_data"
    }
   ],
   "source": [
    "ax3 = plt.axes([0.1,0.1,.8,.8])\n",
    "ax4 = plt.axes([0.6,0.6,.25,.25])\n",
    "\n",
    "ax3.plot(x, np.sin(2*np.pi*x), 'v-')\n",
    "ax3.set_xlabel(\"$2\\pi x$\")\n",
    "ax3.set_ylabel(\"$sin(2\\pi x)$\")\n",
    "\n",
    "tick_positions = ax3.get_xticks()\n",
    "tick_labels = [\"${:.2f}\\pi$\".format(t) for t in tick_positions]\n",
    "ax3.set_xticklabels(tick_labels)\n",
    "\n",
    "ax4.plot(x, x**2, '.-')\n",
    "ax4.set_xlabel(\"x\")\n",
    "ax4.set_ylabel(\"$x^2$\")"
   ]
  },
  {
   "cell_type": "markdown",
   "metadata": {},
   "source": [
    "<div class=\"alert alert-block alert-info\">\n",
    "    <b>Exercise 2</b>\n",
    "    <p>Try it out: Use tick formatting on one of your visualizations. Need some ideas?</p>\n",
    "    <ol>\n",
    "        <li> Improve one of your visualizations, for example, so that the year displays as 2016 instead of 2016.0\n",
    "        <li> Make a visualization that shows what time of year is most popular for horror movie releases.\n",
    "    </ol>\n",
    "</div>"
   ]
  },
  {
   "cell_type": "markdown",
   "metadata": {},
   "source": [
    "1. Improve this code or choose your own example."
   ]
  },
  {
   "cell_type": "code",
   "execution_count": 92,
   "metadata": {},
   "outputs": [
    {
     "data": {
      "text/plain": [
       "<matplotlib.legend.Legend at 0x137bb407848>"
      ]
     },
     "execution_count": 92,
     "metadata": {},
     "output_type": "execute_result"
    },
    {
     "data": {
      "image/png": "[encoded data removed]",
      "text/plain": [
       "<Figure size 432x288 with 1 Axes>"
      ]
     },
     "metadata": {
      "needs_background": "light"
     },
     "output_type": "display_data"
    }
   ],
   "source": [
    "# Edit this code...\n",
    "\n",
    "years = np.arange(df['year_released'].min(), df['year_released'].max())\n",
    "avg_rating = [df[df['year_released']==y]['review_rating'].mean() for y in years]\n",
    "avg_rating_witches = [df[(df['year_released']==y) & (df['has_witches'])]['review_rating'].mean() for y in years]\n",
    "\n",
    "ax = plt.subplot()\n",
    "ax.plot(years, avg_rating, '*-', c='green', label=\"total\", ms='12')\n",
    "ax.plot(years, avg_rating_witches, '*-', c='purple', label='witches', ms='12')\n",
    "ax.set_xlabel(\"Year\")\n",
    "ax.set_ylabel(\"Average review rating\")\n",
    "ax.set_xlim(years[0], years[-1])\n",
    "ax.set_ylim(1, 10)\n",
    "ax.legend()"
   ]
  },
  {
   "cell_type": "markdown",
   "metadata": {},
   "source": [
    "2. Here's some code to get you started."
   ]
  },
  {
   "cell_type": "code",
   "execution_count": 93,
   "metadata": {},
   "outputs": [],
   "source": [
    "df['month_released'] = pd.to_datetime(df['release_date']).map(lambda d: d.month)\n",
    "\n",
    "# Your code here..."
   ]
  },
  {
   "cell_type": "markdown",
   "metadata": {},
   "source": [
    "### Example Solutions\n",
    "\n",
    "Example solutions are below the comic!\n",
    "\n",
    "![PhD Comics](http://phdcomics.com/comics/archive/phd080715s.gif)"
   ]
  },
  {
   "cell_type": "markdown",
   "metadata": {},
   "source": [
    "**Exercise 2.1** Example solution"
   ]
  },
  {
   "cell_type": "code",
   "execution_count": 108,
   "metadata": {},
   "outputs": [
    {
     "data": {
      "text/plain": [
       "[Text(0, 0, '2012'),\n",
       " Text(0, 0, '2013'),\n",
       " Text(0, 0, '2014'),\n",
       " Text(0, 0, '2015'),\n",
       " Text(0, 0, '2016')]"
      ]
     },
     "execution_count": 108,
     "metadata": {},
     "output_type": "execute_result"
    },
    {
     "data": {
      "image/png": "[encoded data removed]",
      "text/plain": [
       "<Figure size 432x288 with 1 Axes>"
      ]
     },
     "metadata": {
      "needs_background": "light"
     },
     "output_type": "display_data"
    }
   ],
   "source": [
    "years = np.arange(df['year_released'].min(), df['year_released'].max())\n",
    "avg_rating = [df[df['year_released']==y]['review_rating'].mean() for y in years]\n",
    "avg_rating_witches = [df[(df['year_released']==y) & (df['has_witches'])]['review_rating'].mean() for y in years]\n",
    "\n",
    "ax = plt.subplot()\n",
    "ax.plot(years, avg_rating, '*-', c='green', label=\"total\", ms='12')\n",
    "ax.plot(years, avg_rating_witches, '*-', c='purple', label='witches', ms='12')\n",
    "ax.set_xlabel(\"Year\")\n",
    "ax.set_ylabel(\"Average review rating\")\n",
    "ax.set_xlim(years[0], years[-1])\n",
    "ax.set_ylim(1, 10)\n",
    "ax.legend()\n",
    "\n",
    "years = [int(y) for y in years]\n",
    "ax.set_xticks(years)\n",
    "ax.set_xticklabels(years)"
   ]
  },
  {
   "cell_type": "markdown",
   "metadata": {},
   "source": [
    "**Exercise 2.2** Example solution"
   ]
  },
  {
   "cell_type": "code",
   "execution_count": 96,
   "metadata": {},
   "outputs": [
    {
     "data": {
      "text/plain": [
       "array([10,  1,  4,  6,  5,  7,  3,  9,  2,  8, 11, 12], dtype=int64)"
      ]
     },
     "execution_count": 96,
     "metadata": {},
     "output_type": "execute_result"
    }
   ],
   "source": [
    "df['month_released'] = pd.to_datetime(df['release_date']).map(lambda d: d.month)\n",
    "df['month_released'].unique()"
   ]
  },
  {
   "cell_type": "code",
   "execution_count": 107,
   "metadata": {},
   "outputs": [
    {
     "data": {
      "text/plain": [
       "Text(0.5, 1.0, 'Number of movies released per month')"
      ]
     },
     "execution_count": 107,
     "metadata": {},
     "output_type": "execute_result"
    },
    {
     "data": {
      "image/png": "[encoded data removed]",
      "text/plain": [
       "<Figure size 432x288 with 1 Axes>"
      ]
     },
     "metadata": {
      "needs_background": "light"
     },
     "output_type": "display_data"
    }
   ],
   "source": [
    "month = np.arange(1, 13, 1)  # Remember: 13 is not included in the arange!\n",
    "count_per_month = [df[df['month_released'] == m].shape[0] for m in month]\n",
    "\n",
    "ax = plt.subplot()\n",
    "ax.plot(month, count_per_month, 'o-', c='xkcd:orange')\n",
    "ax.set_xticks(month)\n",
    "ax.set_xticklabels([\"Jan\", \"Feb\", \"Mar\", \"Apr\", \"May\", \"Jun\", \"Jul\", \"Aug\", \"Sept\", \"Oct\", \"Nov\", \"Dec\"])\n",
    "ax.set_ylabel(\"Number of movies\")\n",
    "ax.set_ylim(0,700)\n",
    "ax.set_title(\"Number of movies released per month\")"
   ]
  },
  {
   "cell_type": "code",
   "execution_count": null,
   "metadata": {},
   "outputs": [],
   "source": []
  }
 ],
 "metadata": {
  "kernelspec": {
   "display_name": "Python 3",
   "language": "python",
   "name": "python3"
  },
  "language_info": {
   "codemirror_mode": {
    "name": "ipython",
    "version": 3
   },
   "file_extension": ".py",
   "mimetype": "text/x-python",
   "name": "python",
   "nbconvert_exporter": "python",
   "pygments_lexer": "ipython3",
   "version": "3.7.4"
  }
 },
 "nbformat": 4,
 "nbformat_minor": 1
}
