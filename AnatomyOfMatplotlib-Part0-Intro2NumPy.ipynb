{
 "cells": [
  {
   "cell_type": "code",
   "execution_count": 75,
   "metadata": {},
   "outputs": [],
   "source": [
    "# Let printing work the same in Python 2 and 3 - do this if you use python 2\n",
    "from __future__ import print_function"
   ]
  },
  {
   "cell_type": "markdown",
   "metadata": {},
   "source": [
    "# NumPy\n",
    "The NumPy package provides the \"ndarray\" object. The NumPy array is used to contain data of uniform type with an arbitrary number of dimensions. NumPy then provides basic mathematical and array methods to lay down the foundation for the entire SciPy ecosystem. The following import statement is the generally accepted convention for NumPy."
   ]
  },
  {
   "cell_type": "code",
   "execution_count": 76,
   "metadata": {},
   "outputs": [],
   "source": [
    "import numpy as np"
   ]
  },
  {
   "cell_type": "markdown",
   "metadata": {},
   "source": [
    "## Array Creation\n",
    "There are several ways to make NumPy arrays. An array has three particular attributes that can be queried: shape, size and the number of dimensions."
   ]
  },
  {
   "cell_type": "markdown",
   "metadata": {},
   "source": [
    "### Create an array with one dimension"
   ]
  },
  {
   "cell_type": "code",
   "execution_count": 77,
   "metadata": {},
   "outputs": [
    {
     "name": "stdout",
     "output_type": "stream",
     "text": [
      "a =\n",
      "[ 2  3  5  7 11]\n",
      "a.shape = (5,)\n",
      "a.size =  5\n",
      "a.ndim =  1\n"
     ]
    }
   ],
   "source": [
    "a = np.array([2, 3, 5, 7, 11])\n",
    "print(\"a =\")\n",
    "print(a)\n",
    "print(\"a.shape =\", a.shape)\n",
    "print(\"a.size = \", a.size)\n",
    "print(\"a.ndim = \", a.ndim)"
   ]
  },
  {
   "cell_type": "markdown",
   "metadata": {},
   "source": [
    "### Create an array with two dimensions"
   ]
  },
  {
   "cell_type": "code",
   "execution_count": 78,
   "metadata": {},
   "outputs": [
    {
     "name": "stdout",
     "output_type": "stream",
     "text": [
      "b =\n",
      "[[1 2]\n",
      " [3 4]\n",
      " [5 6]]\n",
      "b.shape = (3, 2)\n",
      "b.size =  6\n",
      "b.ndim =  2\n"
     ]
    }
   ],
   "source": [
    "b = np.array([[1, 2], [3, 4], [5, 6]])\n",
    "print(\"b =\")\n",
    "print(b)\n",
    "print(\"b.shape =\", b.shape)\n",
    "print(\"b.size = \", b.size)\n",
    "print(\"b.ndim = \", b.ndim)"
   ]
  },
  {
   "cell_type": "markdown",
   "metadata": {},
   "source": [
    "### Create an array from a range\n",
    "  - Integers: use `arange`\n",
    "  - Real numbers: use `linspace`"
   ]
  },
  {
   "cell_type": "code",
   "execution_count": 106,
   "metadata": {},
   "outputs": [
    {
     "name": "stdout",
     "output_type": "stream",
     "text": [
      "x =\n",
      "[ 2  3  4  5  6  7  8  9 10 11 12 13 14 15 16 17 18 19 20 21 22 23 24 25\n",
      " 26 27 28 29 30 31 32 33 34 35 36 37 38 39 40 41 42 43 44 45 46 47 48 49\n",
      " 50 51 52 53 54 55 56 57 58 59 60 61 62 63 64 65 66 67 68 69 70 71 72 73\n",
      " 74 75 76 77 78 79 80 81 82 83 84 85 86 87 88 89 90 91 92 93 94 95 96 97\n",
      " 98 99]\n",
      "x.shape = (98,)\n",
      "x.size =  98\n",
      "x.ndim =  1\n"
     ]
    }
   ],
   "source": [
    "x = np.arange(0, 100)\n",
    "print(\"x =\")\n",
    "print(x)\n",
    "print(\"x.shape =\", x.shape)\n",
    "print(\"x.size = \", x.size)\n",
    "print(\"x.ndim = \", x.ndim)"
   ]
  },
  {
   "cell_type": "code",
   "execution_count": 109,
   "metadata": {},
   "outputs": [
    {
     "name": "stdout",
     "output_type": "stream",
     "text": [
      "x2 =\n",
      "[0.  0.1 0.2 0.3 0.4 0.5 0.6 0.7 0.8 0.9 1. ]\n",
      "x2.shape = (11,)\n",
      "x2.size =  11\n",
      "x2.ndim =  1\n"
     ]
    }
   ],
   "source": [
    "x2 = np.linspace(0, 1, 11)\n",
    "print(\"x2 =\")\n",
    "print(x2)\n",
    "print(\"x2.shape =\", x2.shape)\n",
    "print(\"x2.size = \", x2.size)\n",
    "print(\"x2.ndim = \", x2.ndim)"
   ]
  },
  {
   "cell_type": "markdown",
   "metadata": {},
   "source": [
    "Note that `arange` **excludes** and `linspace` **includes** the uppre limit of the range."
   ]
  },
  {
   "cell_type": "markdown",
   "metadata": {},
   "source": [
    "### Create an array with random values"
   ]
  },
  {
   "cell_type": "code",
   "execution_count": 80,
   "metadata": {},
   "outputs": [
    {
     "name": "stdout",
     "output_type": "stream",
     "text": [
      "y =\n",
      "[[0.77979399 0.20342887 0.20424082 0.60986941 0.98235448]\n",
      " [0.42438671 0.72210611 0.8663443  0.45733641 0.70771838]]\n",
      "y.shape = (2, 5)\n",
      "y.size =  10\n",
      "y.ndim =  2\n"
     ]
    }
   ],
   "source": [
    "y = np.random.rand(2, 5)\n",
    "print(\"y =\")\n",
    "print(y)\n",
    "print(\"y.shape =\", y.shape)\n",
    "print(\"y.size = \", y.size)\n",
    "print(\"y.ndim = \", y.ndim)"
   ]
  },
  {
   "cell_type": "markdown",
   "metadata": {},
   "source": [
    "## Array Indexing: 1D arrays"
   ]
  },
  {
   "cell_type": "markdown",
   "metadata": {},
   "source": [
    "You can get particular elements, or slices of an array. But be careful: **array indices start at 0 in python!**"
   ]
  },
  {
   "cell_type": "code",
   "execution_count": 81,
   "metadata": {},
   "outputs": [
    {
     "name": "stdout",
     "output_type": "stream",
     "text": [
      "a =\n",
      "[ 2  3  5  7 11]\n"
     ]
    }
   ],
   "source": [
    "print(\"a =\")\n",
    "print(a)"
   ]
  },
  {
   "cell_type": "markdown",
   "metadata": {},
   "source": [
    "### Scalar indexing"
   ]
  },
  {
   "cell_type": "code",
   "execution_count": 82,
   "metadata": {},
   "outputs": [
    {
     "name": "stdout",
     "output_type": "stream",
     "text": [
      "a[2] =  5\n"
     ]
    }
   ],
   "source": [
    "print(\"a[2] = \", a[2])"
   ]
  },
  {
   "cell_type": "markdown",
   "metadata": {},
   "source": [
    "### Slicing"
   ]
  },
  {
   "cell_type": "markdown",
   "metadata": {},
   "source": [
    "Slice using the range of indices you want - exclusive of the final value, e.g. `a[2:5]` includes indices 2, 3, and 4 **but not index 5**"
   ]
  },
  {
   "cell_type": "code",
   "execution_count": 83,
   "metadata": {},
   "outputs": [
    {
     "name": "stdout",
     "output_type": "stream",
     "text": [
      "[ 5  7 11]\n"
     ]
    }
   ],
   "source": [
    "# Slicing\n",
    "print(a[2:5])"
   ]
  },
  {
   "cell_type": "markdown",
   "metadata": {},
   "source": [
    "## Array Indexing: 2D arrays"
   ]
  },
  {
   "cell_type": "code",
   "execution_count": 84,
   "metadata": {},
   "outputs": [
    {
     "name": "stdout",
     "output_type": "stream",
     "text": [
      "b = \n",
      "[[1 2]\n",
      " [3 4]\n",
      " [5 6]]\n"
     ]
    }
   ],
   "source": [
    "print(\"b = \")\n",
    "print(b)"
   ]
  },
  {
   "cell_type": "markdown",
   "metadata": {},
   "source": [
    "### Scalar indexing"
   ]
  },
  {
   "cell_type": "code",
   "execution_count": 85,
   "metadata": {},
   "outputs": [
    {
     "name": "stdout",
     "output_type": "stream",
     "text": [
      "b[0, 0] =  1\n",
      "b[2, 1] =  6\n"
     ]
    }
   ],
   "source": [
    "print(\"b[0, 0] = \", b[0, 0])\n",
    "print(\"b[2, 1] = \", b[2, 1])"
   ]
  },
  {
   "cell_type": "markdown",
   "metadata": {},
   "source": [
    "### Slicing"
   ]
  },
  {
   "cell_type": "code",
   "execution_count": 86,
   "metadata": {},
   "outputs": [
    {
     "name": "stdout",
     "output_type": "stream",
     "text": [
      "b[:,0] =  [1 3 5]\n",
      "b[1,:] =  [3 4]\n"
     ]
    }
   ],
   "source": [
    "print(\"b[:,0] = \", b[:, 0])\n",
    "print(\"b[1,:] = \", b[1, :])"
   ]
  },
  {
   "cell_type": "code",
   "execution_count": 87,
   "metadata": {},
   "outputs": [
    {
     "name": "stdout",
     "output_type": "stream",
     "text": [
      "b[0:2, :] = \n",
      " [[1 2]\n",
      " [3 4]]\n"
     ]
    }
   ],
   "source": [
    "print(\"b[0:2, :] = \\n\", b[0:2, :])"
   ]
  },
  {
   "cell_type": "markdown",
   "metadata": {},
   "source": [
    "## Array math"
   ]
  },
  {
   "cell_type": "code",
   "execution_count": 88,
   "metadata": {},
   "outputs": [
    {
     "name": "stdout",
     "output_type": "stream",
     "text": [
      "a1 = \n",
      " [1 2 3]\n",
      "a2 = \n",
      " [ 5 10 15]\n"
     ]
    }
   ],
   "source": [
    "a1 = np.array([1, 2, 3])\n",
    "a2 = np.array([5, 10, 15])\n",
    "print(\"a1 = \\n\", a1)\n",
    "print(\"a2 = \\n\", a2)"
   ]
  },
  {
   "cell_type": "markdown",
   "metadata": {},
   "source": [
    "Mathematics is done **element wise**"
   ]
  },
  {
   "cell_type": "code",
   "execution_count": 89,
   "metadata": {},
   "outputs": [
    {
     "name": "stdout",
     "output_type": "stream",
     "text": [
      "Multiplication: a1*a2 = \n",
      " [ 5 20 45]\n",
      "Division: a1/a2 = \n",
      " [0.2 0.2 0.2]\n",
      "Exponents: a1**2 = \n",
      " [1 4 9]\n"
     ]
    }
   ],
   "source": [
    "print(\"Multiplication: a1*a2 = \\n\", a1*a2)\n",
    "print(\"Division: a1/a2 = \\n\", a1/a2)\n",
    "print(\"Exponents: a1**2 = \\n\", a1**2)"
   ]
  },
  {
   "cell_type": "markdown",
   "metadata": {},
   "source": [
    "If the array sizes do not match, get an error."
   ]
  },
  {
   "cell_type": "code",
   "execution_count": 90,
   "metadata": {},
   "outputs": [
    {
     "ename": "ValueError",
     "evalue": "operands could not be broadcast together with shapes (3,) (2,) ",
     "output_type": "error",
     "traceback": [
      "\u001b[1;31m---------------------------------------------------------------------------\u001b[0m",
      "\u001b[1;31mValueError\u001b[0m                                Traceback (most recent call last)",
      "\u001b[1;32m<ipython-input-90-1566f9744b3a>\u001b[0m in \u001b[0;36m<module>\u001b[1;34m()\u001b[0m\n\u001b[0;32m      1\u001b[0m \u001b[0ma3\u001b[0m \u001b[1;33m=\u001b[0m \u001b[0mnp\u001b[0m\u001b[1;33m.\u001b[0m\u001b[0marray\u001b[0m\u001b[1;33m(\u001b[0m\u001b[1;33m[\u001b[0m\u001b[1;36m1\u001b[0m\u001b[1;33m,\u001b[0m \u001b[1;36m2\u001b[0m\u001b[1;33m]\u001b[0m\u001b[1;33m)\u001b[0m\u001b[1;33m\u001b[0m\u001b[0m\n\u001b[1;32m----> 2\u001b[1;33m \u001b[0ma1\u001b[0m\u001b[1;33m*\u001b[0m\u001b[0ma3\u001b[0m\u001b[1;33m\u001b[0m\u001b[0m\n\u001b[0m",
      "\u001b[1;31mValueError\u001b[0m: operands could not be broadcast together with shapes (3,) (2,) "
     ]
    }
   ],
   "source": [
    "a3 = np.array([1, 2])\n",
    "a1*a3"
   ]
  },
  {
   "cell_type": "markdown",
   "metadata": {},
   "source": [
    "Multiplication by a constant"
   ]
  },
  {
   "cell_type": "code",
   "execution_count": 91,
   "metadata": {},
   "outputs": [
    {
     "name": "stdout",
     "output_type": "stream",
     "text": [
      "const*a1 = \n",
      " [2 4 6]\n"
     ]
    }
   ],
   "source": [
    "c = 2\n",
    "print(\"const*a1 = \\n\", c*a1)"
   ]
  },
  {
   "cell_type": "markdown",
   "metadata": {},
   "source": [
    "Other mathematics functions included in numpy:\n",
    " - Trigonometric functions (e.g. `np.tan(x)`)\n",
    " - Exponentials and logs: `np.exp(x)`, `np.log`\n",
    " - $\\sqrt{x}$: `np.sqrt(x)`"
   ]
  },
  {
   "cell_type": "code",
   "execution_count": 105,
   "metadata": {},
   "outputs": [
    {
     "name": "stdout",
     "output_type": "stream",
     "text": [
      "a1 = [1 2 3]\n",
      "np.sin(a1*np.pi/2) =  [ 1.0000000e+00  1.2246468e-16 -1.0000000e+00]\n",
      "np.exp(a1) =  [ 2.71828183  7.3890561  20.08553692]\n",
      "np.sqrt(a1) =  [1.         1.41421356 1.73205081]\n"
     ]
    }
   ],
   "source": [
    "print(\"a1 =\", a1)\n",
    "print(\"np.sin(a1*np.pi/2) = \", np.sin(a1*np.pi/2))\n",
    "print(\"np.exp(a1) = \", np.exp(a1))\n",
    "print(\"np.sqrt(a1) = \", np.sqrt(a1))"
   ]
  },
  {
   "cell_type": "markdown",
   "metadata": {},
   "source": [
    "### Matrix algebra: use `dot`"
   ]
  },
  {
   "cell_type": "code",
   "execution_count": 70,
   "metadata": {},
   "outputs": [
    {
     "name": "stdout",
     "output_type": "stream",
     "text": [
      "m1 =\n",
      " [[1 2]\n",
      " [3 4]]\n",
      "m2 = \n",
      " [[0.1 0.2 0.3]\n",
      " [0.4 0.5 0.6]]\n"
     ]
    }
   ],
   "source": [
    "m1 = np.array([[1, 2], [3, 4]])\n",
    "m2 = np.array([[0.1, 0.2, 0.3], [0.4, 0.5, 0.6]])\n",
    "print(\"m1 =\\n\", m1)\n",
    "print(\"m2 = \\n\", m2)"
   ]
  },
  {
   "cell_type": "code",
   "execution_count": 72,
   "metadata": {},
   "outputs": [
    {
     "name": "stdout",
     "output_type": "stream",
     "text": [
      "np.dot(m1, m2) = \n",
      " [[0.9 1.2 1.5]\n",
      " [1.9 2.6 3.3]]\n"
     ]
    }
   ],
   "source": [
    "print(\"np.dot(m1, m2) = \\n\", np.dot(m1, m2))"
   ]
  },
  {
   "cell_type": "markdown",
   "metadata": {},
   "source": [
    "The dimensionality rules of matrix multiplication apply when using dot on 2D arrays:"
   ]
  },
  {
   "cell_type": "code",
   "execution_count": 73,
   "metadata": {},
   "outputs": [
    {
     "ename": "ValueError",
     "evalue": "shapes (2,3) and (2,2) not aligned: 3 (dim 1) != 2 (dim 0)",
     "output_type": "error",
     "traceback": [
      "\u001b[1;31m---------------------------------------------------------------------------\u001b[0m",
      "\u001b[1;31mValueError\u001b[0m                                Traceback (most recent call last)",
      "\u001b[1;32m<ipython-input-73-07e1c52db8bf>\u001b[0m in \u001b[0;36m<module>\u001b[1;34m()\u001b[0m\n\u001b[1;32m----> 1\u001b[1;33m \u001b[0mnp\u001b[0m\u001b[1;33m.\u001b[0m\u001b[0mdot\u001b[0m\u001b[1;33m(\u001b[0m\u001b[0mm2\u001b[0m\u001b[1;33m,\u001b[0m \u001b[0mm1\u001b[0m\u001b[1;33m)\u001b[0m\u001b[1;33m\u001b[0m\u001b[0m\n\u001b[0m",
      "\u001b[1;31mValueError\u001b[0m: shapes (2,3) and (2,2) not aligned: 3 (dim 1) != 2 (dim 0)"
     ]
    }
   ],
   "source": [
    "np.dot(m2, m1)"
   ]
  },
  {
   "cell_type": "code",
   "execution_count": null,
   "metadata": {},
   "outputs": [],
   "source": []
  }
 ],
 "metadata": {
  "kernelspec": {
   "display_name": "Python 3",
   "language": "python",
   "name": "python3"
  },
  "language_info": {
   "codemirror_mode": {
    "name": "ipython",
    "version": 3
   },
   "file_extension": ".py",
   "mimetype": "text/x-python",
   "name": "python",
   "nbconvert_exporter": "python",
   "pygments_lexer": "ipython3",
   "version": "3.7.0"
  }
 },
 "nbformat": 4,
 "nbformat_minor": 1
}
