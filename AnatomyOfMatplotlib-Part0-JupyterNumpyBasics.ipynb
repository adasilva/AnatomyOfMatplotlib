{
 "cells": [
  {
   "cell_type": "code",
   "execution_count": 1,
   "metadata": {},
   "outputs": [],
   "source": [
    "# Let printing work the same in Python 2 and 3\n",
    "from __future__ import print_function"
   ]
  },
  {
   "cell_type": "markdown",
   "metadata": {},
   "source": [
    "# Jupyter notebook"
   ]
  },
  {
   "cell_type": "markdown",
   "metadata": {},
   "source": [
    "## What is Jupyter notebook?\n",
    "\n",
    "* Interactive app, opens in browser\n",
    "* Code, output, and text together\n",
    "* Supports different programming languages"
   ]
  },
  {
   "cell_type": "markdown",
   "metadata": {},
   "source": [
    "<div class=\"alert alert-block alert-info\">\n",
    "    Try it out: create a new notebook!\n",
    "</div>"
   ]
  },
  {
   "cell_type": "markdown",
   "metadata": {},
   "source": [
    "## Overview of a notebook\n",
    "\n",
    "* Edit mode: edit cells of the notebook\n",
    "* Command mode: use keyboard shortcuts (useful example: h = help)\n",
    "* Use esc to exit edit mode into command mode\n",
    "* Execute a cell by pressing \"Run\" button (top menu bar) or hitting Ctrl-Enter"
   ]
  },
  {
   "cell_type": "markdown",
   "metadata": {},
   "source": [
    "This is a markdown cell. You can switch from a markdown to a code cell using the drop-down in the menu bar."
   ]
  },
  {
   "cell_type": "markdown",
   "metadata": {},
   "source": [
    "The next cell below is a code cell. You can set variables, define functions, and more. Any output is printed directly below the cell when it is executed."
   ]
  },
  {
   "cell_type": "code",
   "execution_count": 4,
   "metadata": {},
   "outputs": [
    {
     "name": "stdout",
     "output_type": "stream",
     "text": [
      "2\n"
     ]
    }
   ],
   "source": [
    "x = 1\n",
    "y = x + 1\n",
    "print(y)"
   ]
  },
  {
   "cell_type": "markdown",
   "metadata": {},
   "source": [
    "Variables defined in already-executed cells are available in other cells!"
   ]
  },
  {
   "cell_type": "code",
   "execution_count": 5,
   "metadata": {},
   "outputs": [
    {
     "name": "stdout",
     "output_type": "stream",
     "text": [
      "1\n"
     ]
    }
   ],
   "source": [
    "print(x)"
   ]
  },
  {
   "cell_type": "markdown",
   "metadata": {},
   "source": [
    "<div class=\"alert alert-block alert-info\">\n",
    "Try it out: create a python notebook, execute some code, and describe it in a markdown block.\n",
    "</div>\n",
    "\n",
    "For more info about jupyter notebook, [read the docs](https://jupyter-notebook.readthedocs.io/en/stable/examples/Notebook/Working%20With%20Markdown%20Cells.html)"
   ]
  },
  {
   "cell_type": "markdown",
   "metadata": {},
   "source": [
    "# NumPy\n",
    "The NumPy package provides the \"ndarray\" object along with many efficient functions for working with arrays. The NumPy array is used to contain data of uniform type with an arbitrary number of dimensions. NumPy then provides basic mathematical and array methods to lay down the foundation for the entire SciPy ecosystem. The following import statement is the generally accepted convention for NumPy."
   ]
  },
  {
   "cell_type": "code",
   "execution_count": null,
   "metadata": {},
   "outputs": [],
   "source": [
    "import numpy as np"
   ]
  },
  {
   "cell_type": "markdown",
   "metadata": {},
   "source": [
    "## Array Creation\n",
    "There are several ways to make NumPy arrays. An array has three particular attributes that can be queried: shape, size and the number of dimensions."
   ]
  },
  {
   "cell_type": "code",
   "execution_count": null,
   "metadata": {},
   "outputs": [],
   "source": [
    "a = np.array([1, 2, 3])\n",
    "print(a.shape)\n",
    "print(a.size)\n",
    "print(a.ndim)"
   ]
  },
  {
   "cell_type": "code",
   "execution_count": null,
   "metadata": {},
   "outputs": [],
   "source": [
    "x = np.arange(100)\n",
    "print(x.shape)\n",
    "print(x.size)\n",
    "print(x.ndim)"
   ]
  },
  {
   "cell_type": "code",
   "execution_count": null,
   "metadata": {},
   "outputs": [],
   "source": [
    "y = np.random.rand(5, 80)\n",
    "print(y.shape)\n",
    "print(y.size)\n",
    "print(y.ndim)"
   ]
  },
  {
   "cell_type": "markdown",
   "metadata": {},
   "source": [
    "## Array Manipulation\n",
    "How to change the shape of an array without a copy!"
   ]
  },
  {
   "cell_type": "code",
   "execution_count": null,
   "metadata": {},
   "outputs": [],
   "source": [
    "x.shape = (20, 5)\n",
    "print(x)"
   ]
  },
  {
   "cell_type": "markdown",
   "metadata": {},
   "source": [
    "NumPy can even automatically figure out the size of at most one dimension for you."
   ]
  },
  {
   "cell_type": "code",
   "execution_count": null,
   "metadata": {},
   "outputs": [],
   "source": [
    "y.shape = (4, 20, -1)\n",
    "print(y.shape)"
   ]
  },
  {
   "cell_type": "markdown",
   "metadata": {},
   "source": [
    "## Array Indexing"
   ]
  },
  {
   "cell_type": "code",
   "execution_count": null,
   "metadata": {},
   "outputs": [],
   "source": [
    "# Scalar Indexing\n",
    "print(x[2])"
   ]
  },
  {
   "cell_type": "code",
   "execution_count": null,
   "metadata": {},
   "outputs": [],
   "source": [
    "# Slicing\n",
    "print(x[2:5])"
   ]
  },
  {
   "cell_type": "code",
   "execution_count": null,
   "metadata": {},
   "outputs": [],
   "source": [
    "# Advanced slicing\n",
    "print(\"First 5 rows\\n\", x[:5])\n",
    "print(\"Row 18 to the end\\n\", x[18:])\n",
    "print(\"Last 5 rows\\n\", x[-5:])\n",
    "print(\"Reverse the rows\\n\", x[::-1])"
   ]
  },
  {
   "cell_type": "code",
   "execution_count": null,
   "metadata": {},
   "outputs": [],
   "source": [
    "# Boolean Indexing\n",
    "print(x[(x % 2) == 0])"
   ]
  },
  {
   "cell_type": "code",
   "execution_count": null,
   "metadata": {},
   "outputs": [],
   "source": [
    "# Fancy Indexing -- Note the use of a list, not tuple!\n",
    "print(x[[1, 3, 8, 9, 2]])"
   ]
  },
  {
   "cell_type": "markdown",
   "metadata": {},
   "source": [
    "## Broadcasting\n",
    "Broadcasting is a very useful feature of NumPy that will let arrays with differing shapes still be used together. In most cases, broadcasting is faster, and it is more memory efficient than the equivalent full array operation."
   ]
  },
  {
   "cell_type": "code",
   "execution_count": null,
   "metadata": {
    "collapsed": true
   },
   "outputs": [],
   "source": [
    "print(\"Shape of X:\", x.shape)\n",
    "print(\"Shape of Y:\", y.shape)"
   ]
  },
  {
   "cell_type": "markdown",
   "metadata": {},
   "source": [
    "Now, here are three identical assignments. The first one takes full advantage of broadcasting by allowing NumPy to automatically add a new dimension to the *left*. The second explicitly adds that dimension with the special NumPy alias \"np.newaxis\". These first two creates a singleton dimension without any new arrays being created. That singleton dimension is then implicitly tiled, much like the third example to match with the RHS of the addition operator. However, unlike the third example, the broadcasting merely re-uses the existing data in memory."
   ]
  },
  {
   "cell_type": "code",
   "execution_count": null,
   "metadata": {},
   "outputs": [],
   "source": [
    "a = x + y\n",
    "print(a.shape)\n",
    "b = x[np.newaxis, :, :] + y\n",
    "print(b.shape)\n",
    "c = np.tile(x, (4, 1, 1)) + y\n",
    "print(c.shape)\n",
    "print(\"Are a and b identical?\", np.all(a == b))\n",
    "print(\"Are a and c identical?\", np.all(a == c))"
   ]
  },
  {
   "cell_type": "markdown",
   "metadata": {},
   "source": [
    "Another example of broadcasting two 1-D arrays to make a 2-D array."
   ]
  },
  {
   "cell_type": "code",
   "execution_count": null,
   "metadata": {},
   "outputs": [],
   "source": [
    "x = np.arange(-5, 5, 0.1)\n",
    "y = np.arange(-8, 8, 0.25)\n",
    "print(x.shape, y.shape)\n",
    "z = x[np.newaxis, :] * y[:, np.newaxis]\n",
    "print(z.shape)"
   ]
  },
  {
   "cell_type": "code",
   "execution_count": null,
   "metadata": {},
   "outputs": [],
   "source": [
    "# More concisely\n",
    "y, x = np.ogrid[-8:8:0.25, -5:5:0.1]\n",
    "print(x.shape, y.shape)\n",
    "z = x * y\n",
    "print(z.shape)"
   ]
  },
  {
   "cell_type": "markdown",
   "metadata": {},
   "source": [
    "# Pandas"
   ]
  },
  {
   "cell_type": "markdown",
   "metadata": {},
   "source": [
    "Pandas is a popular tool for data science. Unlike numpy arrays, which must have all the same data type (usually numerical), pandas has a data structure called a datframe which may have columns with various data types. For example, we may have a dataframe about books, with \"Author\" and \"Title\" columns containing strings, \"Copyright date\" column containing a datetime, and \"Number of pages\" column containing an integer."
   ]
  },
  {
   "cell_type": "code",
   "execution_count": 7,
   "metadata": {},
   "outputs": [],
   "source": [
    "import pandas as pd"
   ]
  },
  {
   "cell_type": "markdown",
   "metadata": {},
   "source": [
    "Pandas excels when reading csv files -- including ones you find online."
   ]
  },
  {
   "cell_type": "code",
   "execution_count": 8,
   "metadata": {},
   "outputs": [],
   "source": [
    "df = pd.read_csv(\"https://raw.githubusercontent.com/rfordatascience/tidytuesday/master/data/2019/2019-10-22/horror_movies.csv\")"
   ]
  },
  {
   "cell_type": "markdown",
   "metadata": {},
   "source": [
    "Print out the first few rows of your dataframe:"
   ]
  },
  {
   "cell_type": "code",
   "execution_count": 9,
   "metadata": {},
   "outputs": [
    {
     "data": {
      "text/html": [
       "<div>\n",
       "<style scoped>\n",
       "    .dataframe tbody tr th:only-of-type {\n",
       "        vertical-align: middle;\n",
       "    }\n",
       "\n",
       "    .dataframe tbody tr th {\n",
       "        vertical-align: top;\n",
       "    }\n",
       "\n",
       "    .dataframe thead th {\n",
       "        text-align: right;\n",
       "    }\n",
       "</style>\n",
       "<table border=\"1\" class=\"dataframe\">\n",
       "  <thead>\n",
       "    <tr style=\"text-align: right;\">\n",
       "      <th></th>\n",
       "      <th>title</th>\n",
       "      <th>genres</th>\n",
       "      <th>release_date</th>\n",
       "      <th>release_country</th>\n",
       "      <th>movie_rating</th>\n",
       "      <th>review_rating</th>\n",
       "      <th>movie_run_time</th>\n",
       "      <th>plot</th>\n",
       "      <th>cast</th>\n",
       "      <th>language</th>\n",
       "      <th>filming_locations</th>\n",
       "      <th>budget</th>\n",
       "    </tr>\n",
       "  </thead>\n",
       "  <tbody>\n",
       "    <tr>\n",
       "      <td>0</td>\n",
       "      <td>Gut (2012)</td>\n",
       "      <td>Drama| Horror| Thriller</td>\n",
       "      <td>26-Oct-12</td>\n",
       "      <td>USA</td>\n",
       "      <td>NaN</td>\n",
       "      <td>3.9</td>\n",
       "      <td>91 min</td>\n",
       "      <td>Directed by Elias. With Jason Vail, Nicholas W...</td>\n",
       "      <td>Jason Vail|Nicholas Wilder|Sarah Schoofs|Kirst...</td>\n",
       "      <td>English</td>\n",
       "      <td>New York, USA</td>\n",
       "      <td>NaN</td>\n",
       "    </tr>\n",
       "    <tr>\n",
       "      <td>1</td>\n",
       "      <td>The Haunting of Mia Moss (2017)</td>\n",
       "      <td>Horror</td>\n",
       "      <td>13-Jan-17</td>\n",
       "      <td>USA</td>\n",
       "      <td>NaN</td>\n",
       "      <td>NaN</td>\n",
       "      <td>NaN</td>\n",
       "      <td>Directed by Jake Zelch. With Nicola Fiore, Bri...</td>\n",
       "      <td>Nicola Fiore|Brinke Stevens|Curtis Carnahan|Ja...</td>\n",
       "      <td>English</td>\n",
       "      <td>NaN</td>\n",
       "      <td>$30,000</td>\n",
       "    </tr>\n",
       "    <tr>\n",
       "      <td>2</td>\n",
       "      <td>Sleepwalking (2017)</td>\n",
       "      <td>Horror</td>\n",
       "      <td>21-Oct-17</td>\n",
       "      <td>Canada</td>\n",
       "      <td>NaN</td>\n",
       "      <td>NaN</td>\n",
       "      <td>NaN</td>\n",
       "      <td>Directed by David Briggs. With Alysia Topol, A...</td>\n",
       "      <td>Alysia Topol|Anthony Makela|Kelsi Ashley|Patri...</td>\n",
       "      <td>English</td>\n",
       "      <td>Sudbury, Ontario, Canada</td>\n",
       "      <td>NaN</td>\n",
       "    </tr>\n",
       "    <tr>\n",
       "      <td>3</td>\n",
       "      <td>Treasure Chest of Horrors II (2013)</td>\n",
       "      <td>Comedy| Horror| Thriller</td>\n",
       "      <td>23-Apr-13</td>\n",
       "      <td>USA</td>\n",
       "      <td>NOT RATED</td>\n",
       "      <td>3.7</td>\n",
       "      <td>82 min</td>\n",
       "      <td>Directed by M. Kelley, Shawn C. Phillips, Alex...</td>\n",
       "      <td>Veronica Ricci|Nicholas Adam Clark|James Culle...</td>\n",
       "      <td>English</td>\n",
       "      <td>Baltimore, Maryland, USA</td>\n",
       "      <td>NaN</td>\n",
       "    </tr>\n",
       "    <tr>\n",
       "      <td>4</td>\n",
       "      <td>Infidus (2015)</td>\n",
       "      <td>Crime| Drama| Horror</td>\n",
       "      <td>10-Apr-15</td>\n",
       "      <td>USA</td>\n",
       "      <td>NaN</td>\n",
       "      <td>5.8</td>\n",
       "      <td>80 min</td>\n",
       "      <td>Directed by Giulio De Santi. With Bonini Mino,...</td>\n",
       "      <td>Bonini Mino|Massimo Caratelli|Maurizio Zaffino...</td>\n",
       "      <td>Italian</td>\n",
       "      <td>NaN</td>\n",
       "      <td>NaN</td>\n",
       "    </tr>\n",
       "  </tbody>\n",
       "</table>\n",
       "</div>"
      ],
      "text/plain": [
       "                                 title                    genres release_date  \\\n",
       "0                           Gut (2012)   Drama| Horror| Thriller    26-Oct-12   \n",
       "1      The Haunting of Mia Moss (2017)                    Horror    13-Jan-17   \n",
       "2                  Sleepwalking (2017)                    Horror    21-Oct-17   \n",
       "3  Treasure Chest of Horrors II (2013)  Comedy| Horror| Thriller    23-Apr-13   \n",
       "4                       Infidus (2015)      Crime| Drama| Horror    10-Apr-15   \n",
       "\n",
       "  release_country movie_rating  review_rating movie_run_time  \\\n",
       "0             USA          NaN            3.9         91 min   \n",
       "1             USA          NaN            NaN            NaN   \n",
       "2          Canada          NaN            NaN            NaN   \n",
       "3             USA    NOT RATED            3.7         82 min   \n",
       "4             USA          NaN            5.8         80 min   \n",
       "\n",
       "                                                plot  \\\n",
       "0  Directed by Elias. With Jason Vail, Nicholas W...   \n",
       "1  Directed by Jake Zelch. With Nicola Fiore, Bri...   \n",
       "2  Directed by David Briggs. With Alysia Topol, A...   \n",
       "3  Directed by M. Kelley, Shawn C. Phillips, Alex...   \n",
       "4  Directed by Giulio De Santi. With Bonini Mino,...   \n",
       "\n",
       "                                                cast language  \\\n",
       "0  Jason Vail|Nicholas Wilder|Sarah Schoofs|Kirst...  English   \n",
       "1  Nicola Fiore|Brinke Stevens|Curtis Carnahan|Ja...  English   \n",
       "2  Alysia Topol|Anthony Makela|Kelsi Ashley|Patri...  English   \n",
       "3  Veronica Ricci|Nicholas Adam Clark|James Culle...  English   \n",
       "4  Bonini Mino|Massimo Caratelli|Maurizio Zaffino...  Italian   \n",
       "\n",
       "          filming_locations   budget  \n",
       "0             New York, USA      NaN  \n",
       "1                       NaN  $30,000  \n",
       "2  Sudbury, Ontario, Canada      NaN  \n",
       "3  Baltimore, Maryland, USA      NaN  \n",
       "4                       NaN      NaN  "
      ]
     },
     "execution_count": 9,
     "metadata": {},
     "output_type": "execute_result"
    }
   ],
   "source": [
    "df.head()"
   ]
  },
  {
   "cell_type": "markdown",
   "metadata": {},
   "source": [
    "## Investigating your dataframe\n",
    "\n",
    "Get column names:"
   ]
  },
  {
   "cell_type": "code",
   "execution_count": 10,
   "metadata": {},
   "outputs": [
    {
     "data": {
      "text/plain": [
       "Index(['title', 'genres', 'release_date', 'release_country', 'movie_rating',\n",
       "       'review_rating', 'movie_run_time', 'plot', 'cast', 'language',\n",
       "       'filming_locations', 'budget'],\n",
       "      dtype='object')"
      ]
     },
     "execution_count": 10,
     "metadata": {},
     "output_type": "execute_result"
    }
   ],
   "source": [
    "df.columns"
   ]
  },
  {
   "cell_type": "markdown",
   "metadata": {},
   "source": [
    "Basic description of numerical columns:"
   ]
  },
  {
   "cell_type": "code",
   "execution_count": 11,
   "metadata": {},
   "outputs": [
    {
     "data": {
      "text/html": [
       "<div>\n",
       "<style scoped>\n",
       "    .dataframe tbody tr th:only-of-type {\n",
       "        vertical-align: middle;\n",
       "    }\n",
       "\n",
       "    .dataframe tbody tr th {\n",
       "        vertical-align: top;\n",
       "    }\n",
       "\n",
       "    .dataframe thead th {\n",
       "        text-align: right;\n",
       "    }\n",
       "</style>\n",
       "<table border=\"1\" class=\"dataframe\">\n",
       "  <thead>\n",
       "    <tr style=\"text-align: right;\">\n",
       "      <th></th>\n",
       "      <th>review_rating</th>\n",
       "    </tr>\n",
       "  </thead>\n",
       "  <tbody>\n",
       "    <tr>\n",
       "      <td>count</td>\n",
       "      <td>3076.000000</td>\n",
       "    </tr>\n",
       "    <tr>\n",
       "      <td>mean</td>\n",
       "      <td>5.077016</td>\n",
       "    </tr>\n",
       "    <tr>\n",
       "      <td>std</td>\n",
       "      <td>1.474272</td>\n",
       "    </tr>\n",
       "    <tr>\n",
       "      <td>min</td>\n",
       "      <td>1.000000</td>\n",
       "    </tr>\n",
       "    <tr>\n",
       "      <td>25%</td>\n",
       "      <td>4.000000</td>\n",
       "    </tr>\n",
       "    <tr>\n",
       "      <td>50%</td>\n",
       "      <td>5.000000</td>\n",
       "    </tr>\n",
       "    <tr>\n",
       "      <td>75%</td>\n",
       "      <td>6.100000</td>\n",
       "    </tr>\n",
       "    <tr>\n",
       "      <td>max</td>\n",
       "      <td>9.800000</td>\n",
       "    </tr>\n",
       "  </tbody>\n",
       "</table>\n",
       "</div>"
      ],
      "text/plain": [
       "       review_rating\n",
       "count    3076.000000\n",
       "mean        5.077016\n",
       "std         1.474272\n",
       "min         1.000000\n",
       "25%         4.000000\n",
       "50%         5.000000\n",
       "75%         6.100000\n",
       "max         9.800000"
      ]
     },
     "execution_count": 11,
     "metadata": {},
     "output_type": "execute_result"
    }
   ],
   "source": [
    "df.describe()"
   ]
  },
  {
   "cell_type": "markdown",
   "metadata": {},
   "source": [
    "What are the datatypes of the other columns?"
   ]
  },
  {
   "cell_type": "code",
   "execution_count": 12,
   "metadata": {},
   "outputs": [
    {
     "data": {
      "text/plain": [
       "title                 object\n",
       "genres                object\n",
       "release_date          object\n",
       "release_country       object\n",
       "movie_rating          object\n",
       "review_rating        float64\n",
       "movie_run_time        object\n",
       "plot                  object\n",
       "cast                  object\n",
       "language              object\n",
       "filming_locations     object\n",
       "budget                object\n",
       "dtype: object"
      ]
     },
     "execution_count": 12,
     "metadata": {},
     "output_type": "execute_result"
    }
   ],
   "source": [
    "df.dtypes"
   ]
  },
  {
   "cell_type": "markdown",
   "metadata": {},
   "source": [
    "Hmm... why would budget be an object instead of a number? Let's' take a look at the first 10 unique values in this column:"
   ]
  },
  {
   "cell_type": "code",
   "execution_count": 16,
   "metadata": {},
   "outputs": [
    {
     "data": {
      "text/plain": [
       "array([nan, '$30,000', '$3,400,000', '$7,000', 'INR\\xa06,000,000',\n",
       "       '$150,000', '£100,000', '$1,023', '$3,000,000', '£25,000'],\n",
       "      dtype=object)"
      ]
     },
     "execution_count": 16,
     "metadata": {},
     "output_type": "execute_result"
    }
   ],
   "source": [
    "df['budget'].unique()[:10]"
   ]
  },
  {
   "cell_type": "markdown",
   "metadata": {},
   "source": [
    "So it looks like budget is an object (in this case a string) because it is formatted like a currency."
   ]
  },
  {
   "cell_type": "markdown",
   "metadata": {},
   "source": [
    "## Filtering based on column values"
   ]
  },
  {
   "cell_type": "markdown",
   "metadata": {},
   "source": [
    "Filtering based on the value of columns is straightforward. Put your filter inside of square brackets: `df[<filter>]`. This will return a filtered dataframe. You can save it as a new dataframe if you'd like."
   ]
  },
  {
   "cell_type": "code",
   "execution_count": 19,
   "metadata": {},
   "outputs": [
    {
     "data": {
      "text/html": [
       "<div>\n",
       "<style scoped>\n",
       "    .dataframe tbody tr th:only-of-type {\n",
       "        vertical-align: middle;\n",
       "    }\n",
       "\n",
       "    .dataframe tbody tr th {\n",
       "        vertical-align: top;\n",
       "    }\n",
       "\n",
       "    .dataframe thead th {\n",
       "        text-align: right;\n",
       "    }\n",
       "</style>\n",
       "<table border=\"1\" class=\"dataframe\">\n",
       "  <thead>\n",
       "    <tr style=\"text-align: right;\">\n",
       "      <th></th>\n",
       "      <th>title</th>\n",
       "      <th>genres</th>\n",
       "      <th>release_date</th>\n",
       "      <th>release_country</th>\n",
       "      <th>movie_rating</th>\n",
       "      <th>review_rating</th>\n",
       "      <th>movie_run_time</th>\n",
       "      <th>plot</th>\n",
       "      <th>cast</th>\n",
       "      <th>language</th>\n",
       "      <th>filming_locations</th>\n",
       "      <th>budget</th>\n",
       "    </tr>\n",
       "  </thead>\n",
       "  <tbody>\n",
       "    <tr>\n",
       "      <td>2</td>\n",
       "      <td>Sleepwalking (2017)</td>\n",
       "      <td>Horror</td>\n",
       "      <td>21-Oct-17</td>\n",
       "      <td>Canada</td>\n",
       "      <td>NaN</td>\n",
       "      <td>NaN</td>\n",
       "      <td>NaN</td>\n",
       "      <td>Directed by David Briggs. With Alysia Topol, A...</td>\n",
       "      <td>Alysia Topol|Anthony Makela|Kelsi Ashley|Patri...</td>\n",
       "      <td>English</td>\n",
       "      <td>Sudbury, Ontario, Canada</td>\n",
       "      <td>NaN</td>\n",
       "    </tr>\n",
       "    <tr>\n",
       "      <td>178</td>\n",
       "      <td>Secret Santa (2015)</td>\n",
       "      <td>Horror</td>\n",
       "      <td>28-Nov-15</td>\n",
       "      <td>Canada</td>\n",
       "      <td>NaN</td>\n",
       "      <td>6.1</td>\n",
       "      <td>NaN</td>\n",
       "      <td>Directed by Mike McMurran. With Annette Woznia...</td>\n",
       "      <td>Annette Wozniak|Geoff Almond|Keegan Chambers|B...</td>\n",
       "      <td>English</td>\n",
       "      <td>Cambridge, Ontario, Canada</td>\n",
       "      <td>CAD 6,000</td>\n",
       "    </tr>\n",
       "    <tr>\n",
       "      <td>234</td>\n",
       "      <td>There Are Monsters (2013)</td>\n",
       "      <td>Horror</td>\n",
       "      <td>13-Sep-13</td>\n",
       "      <td>Canada</td>\n",
       "      <td>NaN</td>\n",
       "      <td>5.1</td>\n",
       "      <td>90 min</td>\n",
       "      <td>Directed by Jay Dahl. With Matthew Amyotte, Ja...</td>\n",
       "      <td>Matthew Amyotte|Jason Daley|Michael Ray Fox|Gu...</td>\n",
       "      <td>English</td>\n",
       "      <td>NaN</td>\n",
       "      <td>NaN</td>\n",
       "    </tr>\n",
       "    <tr>\n",
       "      <td>272</td>\n",
       "      <td>The Door (2014)</td>\n",
       "      <td>Horror</td>\n",
       "      <td>14-Oct-14</td>\n",
       "      <td>Canada</td>\n",
       "      <td>NaN</td>\n",
       "      <td>4.5</td>\n",
       "      <td>NaN</td>\n",
       "      <td>Directed by Patrick McBrearty. With Alys Crock...</td>\n",
       "      <td>Alys Crocker|Sam Kantor|Matt O'Connor|Winny Cl...</td>\n",
       "      <td>English</td>\n",
       "      <td>NaN</td>\n",
       "      <td>NaN</td>\n",
       "    </tr>\n",
       "    <tr>\n",
       "      <td>280</td>\n",
       "      <td>Black Forest (2015)</td>\n",
       "      <td>Horror</td>\n",
       "      <td>31-Jan-15</td>\n",
       "      <td>Canada</td>\n",
       "      <td>NaN</td>\n",
       "      <td>4.4</td>\n",
       "      <td>NaN</td>\n",
       "      <td>Directed by David Briggs. With Marie-Josee Dio...</td>\n",
       "      <td>Marie-Josee Dionne|France Huot|Jayson Stewart|...</td>\n",
       "      <td>English</td>\n",
       "      <td>Sudbury, Ontario, Canada</td>\n",
       "      <td>CAD 200,000</td>\n",
       "    </tr>\n",
       "  </tbody>\n",
       "</table>\n",
       "</div>"
      ],
      "text/plain": [
       "                         title  genres release_date release_country  \\\n",
       "2          Sleepwalking (2017)  Horror    21-Oct-17          Canada   \n",
       "178        Secret Santa (2015)  Horror    28-Nov-15          Canada   \n",
       "234  There Are Monsters (2013)  Horror    13-Sep-13          Canada   \n",
       "272            The Door (2014)  Horror    14-Oct-14          Canada   \n",
       "280        Black Forest (2015)  Horror    31-Jan-15          Canada   \n",
       "\n",
       "    movie_rating  review_rating movie_run_time  \\\n",
       "2            NaN            NaN            NaN   \n",
       "178          NaN            6.1            NaN   \n",
       "234          NaN            5.1         90 min   \n",
       "272          NaN            4.5            NaN   \n",
       "280          NaN            4.4            NaN   \n",
       "\n",
       "                                                  plot  \\\n",
       "2    Directed by David Briggs. With Alysia Topol, A...   \n",
       "178  Directed by Mike McMurran. With Annette Woznia...   \n",
       "234  Directed by Jay Dahl. With Matthew Amyotte, Ja...   \n",
       "272  Directed by Patrick McBrearty. With Alys Crock...   \n",
       "280  Directed by David Briggs. With Marie-Josee Dio...   \n",
       "\n",
       "                                                  cast language  \\\n",
       "2    Alysia Topol|Anthony Makela|Kelsi Ashley|Patri...  English   \n",
       "178  Annette Wozniak|Geoff Almond|Keegan Chambers|B...  English   \n",
       "234  Matthew Amyotte|Jason Daley|Michael Ray Fox|Gu...  English   \n",
       "272  Alys Crocker|Sam Kantor|Matt O'Connor|Winny Cl...  English   \n",
       "280  Marie-Josee Dionne|France Huot|Jayson Stewart|...  English   \n",
       "\n",
       "              filming_locations       budget  \n",
       "2      Sudbury, Ontario, Canada          NaN  \n",
       "178  Cambridge, Ontario, Canada    CAD 6,000  \n",
       "234                         NaN          NaN  \n",
       "272                         NaN          NaN  \n",
       "280    Sudbury, Ontario, Canada  CAD 200,000  "
      ]
     },
     "execution_count": 19,
     "metadata": {},
     "output_type": "execute_result"
    }
   ],
   "source": [
    "df_filtered = df[df['release_country'] == 'Canada']\n",
    "df_filtered.head()"
   ]
  },
  {
   "cell_type": "markdown",
   "metadata": {},
   "source": [
    "We can also create new columns in our dataframe. Accessing or creating columns has a similar syntax as python dictionaries. Use the `map` method to run an operation on all values in that column."
   ]
  },
  {
   "cell_type": "code",
   "execution_count": 24,
   "metadata": {},
   "outputs": [
    {
     "data": {
      "text/plain": [
       "Index(['title', 'genres', 'release_date', 'release_country', 'movie_rating',\n",
       "       'review_rating', 'movie_run_time', 'plot', 'cast', 'language',\n",
       "       'filming_locations', 'budget', 'from_canada'],\n",
       "      dtype='object')"
      ]
     },
     "execution_count": 24,
     "metadata": {},
     "output_type": "execute_result"
    }
   ],
   "source": [
    "df['from_canada'] = df['release_country'].map(lambda x: x == 'Canada')\n",
    "df.columns"
   ]
  },
  {
   "cell_type": "code",
   "execution_count": null,
   "metadata": {},
   "outputs": [],
   "source": []
  }
 ],
 "metadata": {
  "kernelspec": {
   "display_name": "Python 3",
   "language": "python",
   "name": "python3"
  },
  "language_info": {
   "codemirror_mode": {
    "name": "ipython",
    "version": 3
   },
   "file_extension": ".py",
   "mimetype": "text/x-python",
   "name": "python",
   "nbconvert_exporter": "python",
   "pygments_lexer": "ipython3",
   "version": "3.7.4"
  }
 },
 "nbformat": 4,
 "nbformat_minor": 1
}
