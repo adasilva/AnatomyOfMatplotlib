{
 "cells": [
  {
   "cell_type": "markdown",
   "metadata": {
    "slideshow": {
     "slide_type": "-"
    }
   },
   "source": [
    "# Matplotlib\n",
    "## Introduction\n",
    "\n",
    "Matplotlib is a library for producing publication-quality figures. mpl (for short) was designed from the beginning to serve two purposes: \n",
    "\n",
    " 1. allow for interactive, cross-platform control of figures and plots\n",
    " 2. make it easy to produce static raster or vector graphics files without the need for any GUIs. \n",
    " \n",
    "Furthermore, mpl -- much like Python itself -- gives the developer complete control over the appearance of their plots, while still being very usable through a powerful defaults system."
   ]
  },
  {
   "cell_type": "markdown",
   "metadata": {},
   "source": [
    "# Pyplot: python plotting for matlab users\n",
    "\n",
    "`matplotlib.pyplot` is a set of functions that has a similar functionality as MATLAB. "
   ]
  },
  {
   "cell_type": "code",
   "execution_count": 2,
   "metadata": {},
   "outputs": [],
   "source": [
    "import matplotlib.pyplot as plt\n",
    "import numpy as np"
   ]
  },
  {
   "cell_type": "code",
   "execution_count": 3,
   "metadata": {},
   "outputs": [],
   "source": [
    "x = np.arange(0,5,.1)\n",
    "y = x**2"
   ]
  },
  {
   "cell_type": "code",
   "execution_count": 4,
   "metadata": {},
   "outputs": [
    {
     "data": {
      "text/plain": [
       "(0, 25)"
      ]
     },
     "execution_count": 4,
     "metadata": {},
     "output_type": "execute_result"
    },
    {
     "data": {
      "image/png": "[encoded data removed]",
      "text/plain": [
       "<Figure size 432x288 with 1 Axes>"
      ]
     },
     "metadata": {
      "needs_background": "light"
     },
     "output_type": "display_data"
    }
   ],
   "source": [
    "plt.plot(x, y)\n",
    "plt.xlabel(\"x\")\n",
    "plt.ylabel(\"x squared\")\n",
    "plt.title(\"x^2 vs x\")\n",
    "plt.xlim(0, 5)\n",
    "plt.ylim(0, 25)"
   ]
  },
  {
   "cell_type": "markdown",
   "metadata": {},
   "source": [
    "<div class=\"alert alert-block alert-info\">\n",
    "    <b>Exercise 1</b><p>Try it out: Make a plot! Need some ideas?</p>\n",
    "    <ol>\n",
    "        <li> Plot $y$ vs $x^3$\n",
    "        <li> Plot $y$ vs $cos(x)$\n",
    "        <li> Plot $sin(x)$ and $cos(x)$ on the same plot.\n",
    "    </ol>\n",
    "</div>"
   ]
  },
  {
   "cell_type": "markdown",
   "metadata": {},
   "source": [
    "You can add style using format strings (just like MATLAB) or using specific keyword arguments. The example below using a format string,\n",
    "\n",
    "    fmt = '[marker][line][color]'\n",
    "    \n",
    "\n",
    "Common keyword arguments are:\n",
    "\n",
    "* `color`: Line and marker color. Example: `'blue'` (More on colors later...)\n",
    "* `linestyle` or `ls`: Line style. Examples: `'-'`, `'--'`, `'-.'`, `':'`\n",
    "* `linewidth` or `lw`: Line width. Example: `2`\n",
    "* `marker`: The marker style. Examples: `'o'`, `'.'`, `'v'`, `'s'`, `'*'`\n",
    "* `markersize` or `ms`: Size of the marker. Example: `12`\n",
    "\n",
    "[More Keyword arguments for `plt.plot`](https://matplotlib.org/3.2.1/api/_as_gen/matplotlib.pyplot.plot.html)"
   ]
  },
  {
   "cell_type": "code",
   "execution_count": 5,
   "metadata": {},
   "outputs": [
    {
     "data": {
      "text/plain": [
       "Text(0, 0.5, '$x^2$')"
      ]
     },
     "execution_count": 5,
     "metadata": {},
     "output_type": "execute_result"
    },
    {
     "data": {
      "image/png": "[encoded data removed]",
      "text/plain": [
       "<Figure size 432x288 with 1 Axes>"
      ]
     },
     "metadata": {
      "needs_background": "light"
     },
     "output_type": "display_data"
    }
   ],
   "source": [
    "plt.plot(x, y, '.-k', markersize=12)\n",
    "plt.xlabel(\"x\")\n",
    "plt.ylabel(\"$x^2$\")"
   ]
  },
  {
   "cell_type": "markdown",
   "metadata": {},
   "source": [
    "You can also use latex in the text (as shown above, `$x^2$`)!\n",
    "<div class=\"alert alert-block alert-info\">\n",
    "    <b>Exercise 2</b><p>Try it out: Modify the style of your plot. Need some ideas?</p>\n",
    "    <ol>\n",
    "        <li> Make the line thicker.\n",
    "        <li> Remove the line and use only markers.\n",
    "        <li> Change the marker style to triangles.\n",
    "    </ol>\n",
    "</div>"
   ]
  },
  {
   "cell_type": "markdown",
   "metadata": {},
   "source": [
    "\n",
    "## More colors!\n",
    "\n",
    "There are *so* many ways to define colors in matplotlib:\n",
    "\n",
    "* RGB or RGBAA tuple: (0.1, 0.2, 0.5) or (0.1, 0.2, 0.5, 0.8)\n",
    "* Hex RGB or RGBA string: “#0F0F0F” or “#0F0F0F0F”\n",
    "* Grayscale value: “0.5” \n",
    "* String shortcuts: “b”, “g”, “r”, “c”, “m”, “y”, “k”, “w”\n",
    "* X11/CS4 color names: “blue”, “green”, “goldenrod”, ...\n",
    "* [Xkcd color survey](https://blog.xkcd.com/2010/05/03/color-survey-results/): “xkcd:sky blue”\n",
    "* CN color (matplotlib line colors): “C0”, “C1”, … “C9”\n",
    "* Tableau colors: “tab:green”, etc.\n",
    "\n",
    "![XKCD color survey examples](https://i1.wp.com/imgs.xkcd.com/blag/assorted_colors.png?zoom=2)"
   ]
  },
  {
   "cell_type": "code",
   "execution_count": 6,
   "metadata": {},
   "outputs": [
    {
     "data": {
      "text/plain": [
       "<matplotlib.legend.Legend at 0x2291b05dc08>"
      ]
     },
     "execution_count": 6,
     "metadata": {},
     "output_type": "execute_result"
    },
    {
     "data": {
      "image/png": "[encoded data removed]",
      "text/plain": [
       "<Figure size 432x288 with 1 Axes>"
      ]
     },
     "metadata": {
      "needs_background": "light"
     },
     "output_type": "display_data"
    }
   ],
   "source": [
    "plt.plot(x, y, marker='v', color=\"xkcd:hot pink\", label=\"My Data\")\n",
    "plt.xlabel(\"x\")\n",
    "plt.ylabel(\"$x^2$\")\n",
    "plt.legend(loc='upper center')"
   ]
  },
  {
   "cell_type": "markdown",
   "metadata": {},
   "source": [
    "### Choose your own (data) adventure!\n",
    "\n",
    "You can either load your own dataset, or use the code below to load a sample dataset."
   ]
  },
  {
   "cell_type": "markdown",
   "metadata": {},
   "source": [
    "Load your own data:"
   ]
  },
  {
   "cell_type": "code",
   "execution_count": 7,
   "metadata": {},
   "outputs": [],
   "source": [
    "import pandas as pd\n",
    "\n",
    "# Your code here...\n",
    "\n",
    "df = None"
   ]
  },
  {
   "cell_type": "markdown",
   "metadata": {},
   "source": [
    "Or use the [horror movie dataset](https://github.com/rfordatascience/tidytuesday/tree/master/data/2019/2019-10-22)\n",
    "\n",
    "![hocus pocus](https://media.giphy.com/media/NGDSQlPJiWImc/giphy.gif)"
   ]
  },
  {
   "cell_type": "code",
   "execution_count": 48,
   "metadata": {},
   "outputs": [
    {
     "data": {
      "text/plain": [
       "Index(['title', 'genres', 'release_date', 'release_country', 'movie_rating',\n",
       "       'review_rating', 'movie_run_time', 'plot', 'cast', 'language',\n",
       "       'filming_locations', 'budget'],\n",
       "      dtype='object')"
      ]
     },
     "execution_count": 48,
     "metadata": {},
     "output_type": "execute_result"
    }
   ],
   "source": [
    "import pandas as pd\n",
    "df = pd.read_csv(\"https://raw.githubusercontent.com/rfordatascience/tidytuesday/master/data/2019/2019-10-22/horror_movies.csv\")\n",
    "#df = pd.read_csv(\"data/horror_movies.csv\")\n",
    "\n",
    "df.columns"
   ]
  },
  {
   "cell_type": "markdown",
   "metadata": {},
   "source": [
    "<div class=\"alert alert-block alert-info\">\n",
    "    <b>Exercise 3</b><p>Try it out: Make a visualization using the data. Need some ideas?</p>\n",
    "    <ol>\n",
    "        <li> How has the number of horror movies released per year changed over time?\n",
    "        <li> Have horror movies received better ratings over time?\n",
    "        <li> How has the average rating of horror movies about witches compare to the average rating of all horror movies? (Or choose another plot component.)\n",
    "    </ol>\n",
    "</div>"
   ]
  },
  {
   "cell_type": "markdown",
   "metadata": {},
   "source": [
    "The below cells wrangle new columns that you might find useful in your visualizations. Use these or create your own."
   ]
  },
  {
   "cell_type": "markdown",
   "metadata": {},
   "source": [
    "Get the year released:"
   ]
  },
  {
   "cell_type": "code",
   "execution_count": 14,
   "metadata": {},
   "outputs": [],
   "source": [
    "df['year_released'] = pd.to_datetime(df['release_date']).map(lambda d: d.year)"
   ]
  },
  {
   "cell_type": "markdown",
   "metadata": {},
   "source": [
    "Check if a particular sub-string (in this case, `witch`) is present in the `plot` column:"
   ]
  },
  {
   "cell_type": "code",
   "execution_count": 15,
   "metadata": {},
   "outputs": [],
   "source": [
    "df['has_witches'] = df['plot'].str.contains('witch')"
   ]
  },
  {
   "cell_type": "markdown",
   "metadata": {},
   "source": [
    "Split the budget column into two: one for the currency label, and one for the amount."
   ]
  },
  {
   "cell_type": "code",
   "execution_count": 46,
   "metadata": {},
   "outputs": [
    {
     "data": {
      "text/html": [
       "<div>\n",
       "<style scoped>\n",
       "    .dataframe tbody tr th:only-of-type {\n",
       "        vertical-align: middle;\n",
       "    }\n",
       "\n",
       "    .dataframe tbody tr th {\n",
       "        vertical-align: top;\n",
       "    }\n",
       "\n",
       "    .dataframe thead th {\n",
       "        text-align: right;\n",
       "    }\n",
       "</style>\n",
       "<table border=\"1\" class=\"dataframe\">\n",
       "  <thead>\n",
       "    <tr style=\"text-align: right;\">\n",
       "      <th></th>\n",
       "      <th>0</th>\n",
       "      <th>1</th>\n",
       "    </tr>\n",
       "  </thead>\n",
       "  <tbody>\n",
       "    <tr>\n",
       "      <td>1</td>\n",
       "      <td>$</td>\n",
       "      <td>30,000</td>\n",
       "    </tr>\n",
       "    <tr>\n",
       "      <td>5</td>\n",
       "      <td>$</td>\n",
       "      <td>3,400,000</td>\n",
       "    </tr>\n",
       "    <tr>\n",
       "      <td>11</td>\n",
       "      <td>$</td>\n",
       "      <td>7,000</td>\n",
       "    </tr>\n",
       "    <tr>\n",
       "      <td>14</td>\n",
       "      <td>INR</td>\n",
       "      <td>6,000,000</td>\n",
       "    </tr>\n",
       "    <tr>\n",
       "      <td>15</td>\n",
       "      <td>$</td>\n",
       "      <td>150,000</td>\n",
       "    </tr>\n",
       "  </tbody>\n",
       "</table>\n",
       "</div>"
      ],
      "text/plain": [
       "       0          1\n",
       "1      $     30,000\n",
       "5      $  3,400,000\n",
       "11     $      7,000\n",
       "14  INR   6,000,000\n",
       "15     $    150,000"
      ]
     },
     "execution_count": 46,
     "metadata": {},
     "output_type": "execute_result"
    }
   ],
   "source": [
    "budget_split_columns = df['budget'].str.extract('([^0-9]*)([0-9.,]*)')\n",
    "budget_split_columns[budget_split_columns[1].notnull()].head()"
   ]
  },
  {
   "cell_type": "markdown",
   "metadata": {},
   "source": [
    "The currency column looks good, but we still need to remove the commas from the amount column to make it numerical! Let's do that, and save both columns as new columns in the original dataframe."
   ]
  },
  {
   "cell_type": "code",
   "execution_count": 47,
   "metadata": {},
   "outputs": [],
   "source": [
    "df[\"budget_currency\"] = budget_split_columns[0]\n",
    "df[\"budget_amount\"] = budget_split_columns[1].str.replace(\",\", \"\").astype(\"float\")"
   ]
  },
  {
   "cell_type": "markdown",
   "metadata": {},
   "source": [
    "### Example Solutions\n",
    "\n",
    "There are no wrong answers! Some example visualizations are shown below the comic.\n",
    "\n",
    "![comic from xkcd](https://imgs.xkcd.com/comics/self_description.png)"
   ]
  },
  {
   "cell_type": "markdown",
   "metadata": {},
   "source": [
    "**Exercise 3.1** The number of horror movies created has increased over time."
   ]
  },
  {
   "cell_type": "code",
   "execution_count": 124,
   "metadata": {},
   "outputs": [
    {
     "data": {
      "text/plain": [
       "Text(0, 0.5, 'Number of movies')"
      ]
     },
     "execution_count": 124,
     "metadata": {},
     "output_type": "execute_result"
    },
    {
     "data": {
      "image/png": "[encoded data removed]",
      "text/plain": [
       "<Figure size 432x288 with 1 Axes>"
      ]
     },
     "metadata": {
      "needs_background": "light"
     },
     "output_type": "display_data"
    }
   ],
   "source": [
    "years = np.arange(df['year_released'].min(), df['year_released'].max())\n",
    "total_count = [df[df['year_released']==y].shape[0] for y in years]\n",
    "plt.plot(years, total_count, 'o--', c='xkcd:orange', label=\"total\")\n",
    "plt.xlabel(\"Year\")\n",
    "plt.ylabel(\"Number of movies\")"
   ]
  },
  {
   "cell_type": "markdown",
   "metadata": {},
   "source": [
    "**Exercise 3.2** Movie ratings have remained mostly flat over time."
   ]
  },
  {
   "cell_type": "code",
   "execution_count": 165,
   "metadata": {},
   "outputs": [
    {
     "data": {
      "text/plain": [
       "(1, 10)"
      ]
     },
     "execution_count": 165,
     "metadata": {},
     "output_type": "execute_result"
    },
    {
     "data": {
      "image/png": "[encoded data removed]",
      "text/plain": [
       "<Figure size 432x288 with 1 Axes>"
      ]
     },
     "metadata": {
      "needs_background": "light"
     },
     "output_type": "display_data"
    }
   ],
   "source": [
    "years = np.arange(df['year_released'].min(), df['year_released'].max())\n",
    "avg_rating = [df[df['year_released']==y]['review_rating'].mean() for y in years]\n",
    "plt.plot(years, avg_rating, '*-', c='green', ms='12')\n",
    "plt.xlabel(\"Year\")\n",
    "plt.ylabel(\"Average review rating\")\n",
    "plt.xlim(years[0], years[-1])\n",
    "plt.ylim(1, 10)"
   ]
  },
  {
   "cell_type": "markdown",
   "metadata": {},
   "source": [
    "**Exercise 3.3** 2014 was a great year for movies about witches:"
   ]
  },
  {
   "cell_type": "code",
   "execution_count": 163,
   "metadata": {},
   "outputs": [
    {
     "data": {
      "text/plain": [
       "<matplotlib.legend.Legend at 0x1b12c65b888>"
      ]
     },
     "execution_count": 163,
     "metadata": {},
     "output_type": "execute_result"
    },
    {
     "data": {
      "image/png": "[encoded data removed]",
      "text/plain": [
       "<Figure size 432x288 with 1 Axes>"
      ]
     },
     "metadata": {
      "needs_background": "light"
     },
     "output_type": "display_data"
    }
   ],
   "source": [
    "years = np.arange(df['year_released'].min(), df['year_released'].max())\n",
    "avg_rating = [df[df['year_released']==y]['review_rating'].mean() for y in years]\n",
    "avg_rating_witches = [df[(df['year_released']==y) & (df['has_witches'])]['review_rating'].mean() for y in years]\n",
    "plt.plot(years, avg_rating, '*-', c='green', label=\"total\", ms='12')\n",
    "plt.plot(years, avg_rating_witches, '*-', c='purple', label='witches', ms='12')\n",
    "plt.xlabel(\"Year\")\n",
    "plt.ylabel(\"Average review rating\")\n",
    "plt.xlim(years[0], years[-1])\n",
    "plt.ylim(1, 10)\n",
    "plt.legend()"
   ]
  },
  {
   "cell_type": "code",
   "execution_count": null,
   "metadata": {},
   "outputs": [],
   "source": []
  }
 ],
 "metadata": {
  "kernelspec": {
   "display_name": "Python 3",
   "language": "python",
   "name": "python3"
  },
  "language_info": {
   "codemirror_mode": {
    "name": "ipython",
    "version": 3
   },
   "file_extension": ".py",
   "mimetype": "text/x-python",
   "name": "python",
   "nbconvert_exporter": "python",
   "pygments_lexer": "ipython3",
   "version": "3.7.4"
  }
 },
 "nbformat": 4,
 "nbformat_minor": 1
}
